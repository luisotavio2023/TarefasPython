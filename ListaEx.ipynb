{
  "nbformat": 4,
  "nbformat_minor": 0,
  "metadata": {
    "colab": {
      "provenance": [],
      "authorship_tag": "ABX9TyPmrSejQoRDBd68CIHmjrr1",
      "include_colab_link": true
    },
    "kernelspec": {
      "name": "python3",
      "display_name": "Python 3"
    },
    "language_info": {
      "name": "python"
    }
  },
  "cells": [
    {
      "cell_type": "markdown",
      "metadata": {
        "id": "view-in-github",
        "colab_type": "text"
      },
      "source": [
        "<a href=\"https://colab.research.google.com/github/luisotavio2023/TarefasPython/blob/main/ListaEx.ipynb\" target=\"_parent\"><img src=\"https://colab.research.google.com/assets/colab-badge.svg\" alt=\"Open In Colab\"/></a>"
      ]
    },
    {
      "cell_type": "code",
      "source": [
        "DolarValor = float(input(\"Digite o valor que deseja converter: \"))\n",
        "DolarCota = float(input(\"Digite o valor do dolar comparado ao real: \"))\n",
        "\n",
        "Conv = DolarValor * DolarCota\n",
        "print(\"O valor convertido é de \" + str(Conv))"
      ],
      "metadata": {
        "colab": {
          "base_uri": "https://localhost:8080/"
        },
        "id": "QiRPIcBpCp-h",
        "outputId": "43307762-8025-450f-a626-ce391f778bca"
      },
      "execution_count": null,
      "outputs": [
        {
          "output_type": "stream",
          "name": "stdout",
          "text": [
            "Digite o valor que deseja converter: 6\n",
            "Digite o valor do dolar comparado ao real: 4.90\n",
            "O valor convertido é de 29.400000000000002\n"
          ]
        }
      ]
    },
    {
      "cell_type": "code",
      "source": [],
      "metadata": {
        "id": "T21_oBllDh1a"
      },
      "execution_count": null,
      "outputs": []
    },
    {
      "cell_type": "code",
      "source": [
        "import math\n",
        "\n",
        "cateto1 = float(input(\"Digite o comprimento do primeiro cateto: \"))\n",
        "cateto2 = float(input(\"Digite o comprimento do segundo cateto: \"))\n",
        "\n",
        "hipotenusa = math.sqrt(cateto1**2 + cateto2**2)\n",
        "\n",
        "print(\"A hipotenusa é:\", hipotenusa)"
      ],
      "metadata": {
        "colab": {
          "base_uri": "https://localhost:8080/"
        },
        "id": "BrcKYAKqFABX",
        "outputId": "cdeb78cf-ab81-4fb6-b166-9ab8782f93e7"
      },
      "execution_count": null,
      "outputs": [
        {
          "output_type": "stream",
          "name": "stdout",
          "text": [
            "Digite o comprimento do primeiro cateto: 4\n",
            "Digite o comprimento do segundo cateto: 3\n",
            "A hipotenusa é: 5.0\n"
          ]
        }
      ]
    },
    {
      "cell_type": "code",
      "source": [],
      "metadata": {
        "id": "qdDI8lWnFENq"
      },
      "execution_count": null,
      "outputs": []
    },
    {
      "cell_type": "code",
      "source": [
        "valorproduto = float(input(\"Digite o valor do produto\"))\n",
        "\n",
        "CalculoDesc = valorproduto * (27/100)\n",
        "\n",
        "print(\"O valor do produto é de \" + str(CalculoDesc))\n"
      ],
      "metadata": {
        "colab": {
          "base_uri": "https://localhost:8080/"
        },
        "id": "NCaPcGq_FV7J",
        "outputId": "009e4f83-0609-40b2-b2ad-c08cebf0b9c8"
      },
      "execution_count": null,
      "outputs": [
        {
          "output_type": "stream",
          "name": "stdout",
          "text": [
            "Digite o valor do produto40\n",
            "O valor do produto é de 10.8\n"
          ]
        }
      ]
    },
    {
      "cell_type": "code",
      "source": [],
      "metadata": {
        "id": "Fr9wuMsHFpoH"
      },
      "execution_count": null,
      "outputs": []
    }
  ]
}